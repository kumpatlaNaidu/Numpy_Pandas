{
 "cells": [
  {
   "cell_type": "markdown",
   "id": "b0eab68b",
   "metadata": {},
   "source": [
    "Creating Arrays with Numpy (different ways)"
   ]
  },
  {
   "cell_type": "code",
   "execution_count": 3,
   "id": "a1dd60ef",
   "metadata": {},
   "outputs": [
    {
     "name": "stdout",
     "output_type": "stream",
     "text": [
      "[10 20 30 15 40]\n"
     ]
    }
   ],
   "source": [
    "import numpy as np\n",
    "arr = np.array([10,20,30,15,40])\n",
    "print(arr)"
   ]
  },
  {
   "cell_type": "code",
   "execution_count": 5,
   "id": "86eaf965",
   "metadata": {},
   "outputs": [
    {
     "name": "stdout",
     "output_type": "stream",
     "text": [
      "[2, 5, 8, 11, 14, 17, 20]\n",
      "<class 'list'>\n",
      "[ 2  5  8 11 14 17 20]\n",
      "<class 'numpy.ndarray'>\n"
     ]
    }
   ],
   "source": [
    "b =list(range(2,21,3))\n",
    "print(b,type(b),sep='\\n')\n",
    "arr1 =np.array(b)\n",
    "print(arr1,type(arr1),sep='\\n')\n"
   ]
  },
  {
   "cell_type": "code",
   "execution_count": 7,
   "id": "e922049d",
   "metadata": {},
   "outputs": [
    {
     "name": "stdout",
     "output_type": "stream",
     "text": [
      "['n' 'u' 'm' 'p' 'y']\n"
     ]
    }
   ],
   "source": [
    "c = list('numpy')\n",
    "arr2=np.array(c)\n",
    "print(arr2)"
   ]
  },
  {
   "cell_type": "code",
   "execution_count": 11,
   "id": "0a73e9c4",
   "metadata": {},
   "outputs": [
    {
     "name": "stdout",
     "output_type": "stream",
     "text": [
      "[0. 1. 2. 3. 4. 5. 6. 7. 8. 9.]\n"
     ]
    }
   ],
   "source": [
    "arr3 =np.array(range(10),float)\n",
    "print(arr3)"
   ]
  },
  {
   "cell_type": "code",
   "execution_count": 18,
   "id": "b64f91ba",
   "metadata": {
    "scrolled": false
   },
   "outputs": [
    {
     "name": "stdout",
     "output_type": "stream",
     "text": [
      "[[0. 1. 2. 3. 4.]\n",
      " [5. 6. 7. 8. 9.]]\n"
     ]
    }
   ],
   "source": [
    "arr4 = arr3.reshape(2,5)#converting to 2D array\n",
    "print(arr4)"
   ]
  },
  {
   "cell_type": "code",
   "execution_count": 21,
   "id": "656a4829",
   "metadata": {},
   "outputs": [
    {
     "name": "stdout",
     "output_type": "stream",
     "text": [
      "arr3 is 1 array and its shape is (10,)\n",
      "arr4 is 2 array and its shape is (2, 5)\n"
     ]
    }
   ],
   "source": [
    "print('arr3 is {} array and its shape is {}'.format(arr3.ndim,arr3.shape))\n",
    "print('arr4 is {} array and its shape is {}'.format(arr4.ndim,arr4.shape))"
   ]
  },
  {
   "cell_type": "markdown",
   "id": "4cc1eaf6",
   "metadata": {},
   "source": [
    "Arthmetical operation on array"
   ]
  },
  {
   "cell_type": "code",
   "execution_count": 29,
   "id": "66c4d20a",
   "metadata": {
    "scrolled": true
   },
   "outputs": [
    {
     "name": "stdout",
     "output_type": "stream",
     "text": [
      "[0 1 2 3 4 5 6 7 8 9]\n",
      "[ 0  2  4  6  8 10 12 14 16 18]\n"
     ]
    }
   ],
   "source": [
    "A = np.array(range(10))\n",
    "B = np.array(range(0,20,2))\n",
    "print(A,B,sep='\\n')"
   ]
  },
  {
   "cell_type": "code",
   "execution_count": 30,
   "id": "9758409a",
   "metadata": {},
   "outputs": [
    {
     "name": "stdout",
     "output_type": "stream",
     "text": [
      "[ 0  3  6  9 12 15 18 21 24 27]\n"
     ]
    }
   ],
   "source": [
    "print(np.add(A,B))#addition of arrays"
   ]
  },
  {
   "cell_type": "code",
   "execution_count": 31,
   "id": "35d180bb",
   "metadata": {},
   "outputs": [
    {
     "name": "stdout",
     "output_type": "stream",
     "text": [
      "[ 0 -1 -2 -3 -4 -5 -6 -7 -8 -9]\n"
     ]
    }
   ],
   "source": [
    "print(np.subtract(A,B))#subtraction of arrays"
   ]
  },
  {
   "cell_type": "code",
   "execution_count": 32,
   "id": "64c683f6",
   "metadata": {},
   "outputs": [
    {
     "name": "stdout",
     "output_type": "stream",
     "text": [
      "[  0   2   8  18  32  50  72  98 128 162]\n"
     ]
    }
   ],
   "source": [
    "print(np.multiply(A,B))#product of arrays"
   ]
  },
  {
   "cell_type": "code",
   "execution_count": 35,
   "id": "a9cbe8ae",
   "metadata": {},
   "outputs": [
    {
     "name": "stdout",
     "output_type": "stream",
     "text": [
      "[0.5 0.5 0.5 0.5 0.5 0.5 0.5 0.5 0.5]\n"
     ]
    }
   ],
   "source": [
    "print(np.divide(A[1:],B[1:]))#division of arrays "
   ]
  },
  {
   "cell_type": "code",
   "execution_count": 40,
   "id": "886246a9",
   "metadata": {},
   "outputs": [
    {
     "name": "stdout",
     "output_type": "stream",
     "text": [
      "[    1    16   729 65536]\n"
     ]
    }
   ],
   "source": [
    "print(np.power(A[1:5],B[1:5]))#A**B "
   ]
  },
  {
   "cell_type": "markdown",
   "id": "87badf37",
   "metadata": {},
   "source": [
    "Indexing and Slicing"
   ]
  },
  {
   "cell_type": "code",
   "execution_count": 43,
   "id": "bda84b68",
   "metadata": {},
   "outputs": [
    {
     "name": "stdout",
     "output_type": "stream",
     "text": [
      "[ 0  2  4  6  8 10 12 14 16 18]\n"
     ]
    }
   ],
   "source": [
    "print(B)"
   ]
  },
  {
   "cell_type": "code",
   "execution_count": 44,
   "id": "6af833c9",
   "metadata": {},
   "outputs": [
    {
     "name": "stdout",
     "output_type": "stream",
     "text": [
      "18\n"
     ]
    }
   ],
   "source": [
    "print(B[-1])#print last element"
   ]
  },
  {
   "cell_type": "code",
   "execution_count": 45,
   "id": "b72bfb56",
   "metadata": {},
   "outputs": [
    {
     "name": "stdout",
     "output_type": "stream",
     "text": [
      "4\n"
     ]
    }
   ],
   "source": [
    "print(B[2])#print third element"
   ]
  },
  {
   "cell_type": "code",
   "execution_count": 47,
   "id": "a552b370",
   "metadata": {},
   "outputs": [
    {
     "name": "stdout",
     "output_type": "stream",
     "text": [
      "[0 2 4]\n"
     ]
    }
   ],
   "source": [
    "print(B[:3])# print first three elements"
   ]
  },
  {
   "cell_type": "code",
   "execution_count": 49,
   "id": "dbc0d3b8",
   "metadata": {},
   "outputs": [
    {
     "name": "stdout",
     "output_type": "stream",
     "text": [
      "[14 16 18]\n"
     ]
    }
   ],
   "source": [
    "print(B[-3:])# print last three elements"
   ]
  },
  {
   "cell_type": "code",
   "execution_count": 50,
   "id": "a0483812",
   "metadata": {},
   "outputs": [
    {
     "name": "stdout",
     "output_type": "stream",
     "text": [
      "[2 4 6]\n"
     ]
    }
   ],
   "source": [
    "print(B[1:4])#print second element to forth element"
   ]
  },
  {
   "cell_type": "code",
   "execution_count": 51,
   "id": "a95700ca",
   "metadata": {},
   "outputs": [
    {
     "name": "stdout",
     "output_type": "stream",
     "text": [
      "[ 0  4  8 12 16]\n"
     ]
    }
   ],
   "source": [
    "print(B[::2])#print every second element"
   ]
  },
  {
   "cell_type": "code",
   "execution_count": 52,
   "id": "8fed2852",
   "metadata": {},
   "outputs": [
    {
     "name": "stdout",
     "output_type": "stream",
     "text": [
      "[18 16 14 12 10  8  6  4  2  0]\n"
     ]
    }
   ],
   "source": [
    "print(B[::-1])#print array in reverse order"
   ]
  },
  {
   "cell_type": "markdown",
   "id": "c1688997",
   "metadata": {},
   "source": [
    "Shape and Reshare the arrays"
   ]
  },
  {
   "cell_type": "code",
   "execution_count": 63,
   "id": "a7b4162a",
   "metadata": {},
   "outputs": [
    {
     "name": "stdout",
     "output_type": "stream",
     "text": [
      "[ 2  4  5  8  9 10 30  3  1 10 12 12] (12,)\n",
      "[[ 2  4  5]\n",
      " [ 8  9 10]\n",
      " [30  3  1]\n",
      " [10 12 12]] (4, 3)\n"
     ]
    }
   ],
   "source": [
    "C = np.array([2,4,5,8,9,10,30,3,1,10,12,12])\n",
    "print(C, C.shape)\n",
    "C.shape =(4,3)# changing 1D array to 2D array\n",
    "print(C,C.shape)"
   ]
  },
  {
   "cell_type": "code",
   "execution_count": 74,
   "id": "37a843c5",
   "metadata": {},
   "outputs": [
    {
     "name": "stdout",
     "output_type": "stream",
     "text": [
      "[[[ 2  4]\n",
      "  [ 5  8]]\n",
      "\n",
      " [[ 9 10]\n",
      "  [30  3]]\n",
      "\n",
      " [[ 1 10]\n",
      "  [12 12]]]\n"
     ]
    }
   ],
   "source": [
    "print(np.reshape(C,(3,2,2)))# changing to 3D\n"
   ]
  },
  {
   "cell_type": "code",
   "execution_count": 70,
   "id": "b76992ec",
   "metadata": {},
   "outputs": [
    {
     "name": "stdout",
     "output_type": "stream",
     "text": [
      "[ 2  4  5  8  9 10 30  3  1 10 12 12]\n"
     ]
    }
   ],
   "source": [
    "print(C.reshape(-1))# changing back to 1D"
   ]
  },
  {
   "cell_type": "markdown",
   "id": "d5d7d494",
   "metadata": {},
   "source": [
    "Specail Arrays"
   ]
  },
  {
   "cell_type": "code",
   "execution_count": 79,
   "id": "de9aa061",
   "metadata": {},
   "outputs": [
    {
     "name": "stdout",
     "output_type": "stream",
     "text": [
      "[0 0 0 0]\n"
     ]
    }
   ],
   "source": [
    "arr =np.zeros(4,int)#1D array of four elements with zeros\n",
    "print(arr)"
   ]
  },
  {
   "cell_type": "code",
   "execution_count": 80,
   "id": "ef90512a",
   "metadata": {},
   "outputs": [
    {
     "name": "stdout",
     "output_type": "stream",
     "text": [
      "[[0 0]\n",
      " [0 0]]\n"
     ]
    }
   ],
   "source": [
    "arr =np.zeros((2,2),int)#2D array of four elements with zeros\n",
    "print(arr)"
   ]
  },
  {
   "cell_type": "code",
   "execution_count": 81,
   "id": "40ebb6a7",
   "metadata": {},
   "outputs": [
    {
     "name": "stdout",
     "output_type": "stream",
     "text": [
      "[1. 1. 1. 1.]\n"
     ]
    }
   ],
   "source": [
    "arr1 =np.ones(4)#1D array of four elements with ones and default data type float\n",
    "print(arr1)"
   ]
  },
  {
   "cell_type": "code",
   "execution_count": 84,
   "id": "4b545c96",
   "metadata": {},
   "outputs": [
    {
     "name": "stdout",
     "output_type": "stream",
     "text": [
      "[[1 0 0]\n",
      " [0 1 0]\n",
      " [0 0 1]]\n"
     ]
    }
   ],
   "source": [
    "print(np.identity(3,int))#3x3 identity matrix"
   ]
  },
  {
   "cell_type": "code",
   "execution_count": 90,
   "id": "0b9cc4d4",
   "metadata": {},
   "outputs": [
    {
     "name": "stdout",
     "output_type": "stream",
     "text": [
      "[[0. 0. 0.]\n",
      " [1. 0. 0.]\n",
      " [0. 1. 0.]]\n",
      "[[0. 1. 0.]\n",
      " [0. 0. 1.]\n",
      " [0. 0. 0.]]\n",
      "[[1. 0. 0.]\n",
      " [0. 1. 0.]\n",
      " [0. 0. 1.]]\n"
     ]
    }
   ],
   "source": [
    "print(np.eye(3,k=-1))#creating 1s below diagonal\n",
    "print(np.eye(3,k=1))#creating 1s above diagonal\n",
    "print(np.eye(3))#creating 1s on diagonal by default"
   ]
  },
  {
   "cell_type": "markdown",
   "id": "e6baf1a5",
   "metadata": {},
   "source": [
    "Array functions - mean, variance, standard deviation, maximum, minimum etc"
   ]
  },
  {
   "cell_type": "code",
   "execution_count": 93,
   "id": "eddf314c",
   "metadata": {},
   "outputs": [
    {
     "name": "stdout",
     "output_type": "stream",
     "text": [
      "15.142857142857142\n",
      "15.143\n"
     ]
    }
   ],
   "source": [
    "Arr = np.array([1,5,10,15,20,25,30])\n",
    "print(Arr.mean())# finding mean of the array\n",
    "print(np.round(Arr.mean(), decimals =3))#rounding the result to 3 decimal points"
   ]
  },
  {
   "cell_type": "code",
   "execution_count": 94,
   "id": "eb05b71f",
   "metadata": {
    "scrolled": true
   },
   "outputs": [
    {
     "name": "stdout",
     "output_type": "stream",
     "text": [
      "95.83673469387756\n",
      "96.0\n"
     ]
    }
   ],
   "source": [
    "print(Arr.var())#finding variance of the array\n",
    "print(np.ceil(Arr.var()))#roundind the result to hightest integer"
   ]
  },
  {
   "cell_type": "code",
   "execution_count": 95,
   "id": "92409cf7",
   "metadata": {},
   "outputs": [
    {
     "name": "stdout",
     "output_type": "stream",
     "text": [
      "9.789623828006752\n",
      "9.0\n"
     ]
    }
   ],
   "source": [
    "print(Arr.std())#finding standard deviation of the array\n",
    "print(np.floor(Arr.std()))#roundind the result to lowest integer"
   ]
  },
  {
   "cell_type": "code",
   "execution_count": 98,
   "id": "793d2d1f",
   "metadata": {},
   "outputs": [
    {
     "name": "stdout",
     "output_type": "stream",
     "text": [
      "30\n",
      "1\n",
      "106\n"
     ]
    }
   ],
   "source": [
    "print(max(Arr))#maximum value of the array\n",
    "print(min(Arr))#minimum value of the array\n",
    "print(sum(Arr))#sum of the array"
   ]
  }
 ],
 "metadata": {
  "kernelspec": {
   "display_name": "Python 3",
   "language": "python",
   "name": "python3"
  },
  "language_info": {
   "codemirror_mode": {
    "name": "ipython",
    "version": 3
   },
   "file_extension": ".py",
   "mimetype": "text/x-python",
   "name": "python",
   "nbconvert_exporter": "python",
   "pygments_lexer": "ipython3",
   "version": "3.8.8"
  }
 },
 "nbformat": 4,
 "nbformat_minor": 5
}
