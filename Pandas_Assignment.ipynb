{
 "cells": [
  {
   "cell_type": "markdown",
   "id": "29cb6dee",
   "metadata": {},
   "source": [
    "Creating Pandas series and indexing"
   ]
  },
  {
   "cell_type": "code",
   "execution_count": 2,
   "id": "d846db7f",
   "metadata": {},
   "outputs": [
    {
     "name": "stdout",
     "output_type": "stream",
     "text": [
      "S1    10\n",
      "S2    12\n",
      "S3    13\n",
      "S4    15\n",
      "S5    29\n",
      "S6    23\n",
      "S7     2\n",
      "S8    18\n",
      "S9     6\n",
      "dtype: int64\n"
     ]
    }
   ],
   "source": [
    "import pandas as pd\n",
    "age =[10,12,13,15,29,23,2,18,6]\n",
    "name =['S1','S2','S3','S4','S5','S6','S7','S8','S9']\n",
    "S = pd.Series(age,index =name)\n",
    "print(S)"
   ]
  },
  {
   "cell_type": "code",
   "execution_count": 3,
   "id": "401794a6",
   "metadata": {},
   "outputs": [
    {
     "name": "stdout",
     "output_type": "stream",
     "text": [
      "10\n"
     ]
    }
   ],
   "source": [
    "print(S['S1'])"
   ]
  },
  {
   "cell_type": "code",
   "execution_count": 4,
   "id": "91024410",
   "metadata": {},
   "outputs": [
    {
     "name": "stdout",
     "output_type": "stream",
     "text": [
      "13\n"
     ]
    }
   ],
   "source": [
    "print(S[2])"
   ]
  },
  {
   "cell_type": "code",
   "execution_count": 5,
   "id": "87194b60",
   "metadata": {},
   "outputs": [
    {
     "name": "stdout",
     "output_type": "stream",
     "text": [
      "S1    10\n",
      "S2    12\n",
      "S3    13\n",
      "dtype: int64\n"
     ]
    }
   ],
   "source": [
    "print(S[:3])"
   ]
  },
  {
   "cell_type": "code",
   "execution_count": 6,
   "id": "c90f8f41",
   "metadata": {},
   "outputs": [
    {
     "name": "stdout",
     "output_type": "stream",
     "text": [
      "6\n"
     ]
    }
   ],
   "source": [
    "print(S[-1])"
   ]
  },
  {
   "cell_type": "code",
   "execution_count": 7,
   "id": "cd378ba5",
   "metadata": {},
   "outputs": [
    {
     "name": "stdout",
     "output_type": "stream",
     "text": [
      "S1    10\n",
      "S2    12\n",
      "S3    13\n",
      "S4    15\n",
      "S5    29\n",
      "dtype: int64\n"
     ]
    }
   ],
   "source": [
    "print(S.head())"
   ]
  },
  {
   "cell_type": "code",
   "execution_count": 8,
   "id": "3aa59d5b",
   "metadata": {},
   "outputs": [
    {
     "name": "stdout",
     "output_type": "stream",
     "text": [
      "S1    10\n",
      "S2    12\n",
      "S3    13\n",
      "dtype: int64\n"
     ]
    }
   ],
   "source": [
    "print(S.head(3))"
   ]
  },
  {
   "cell_type": "code",
   "execution_count": 9,
   "id": "999de03f",
   "metadata": {},
   "outputs": [
    {
     "name": "stdout",
     "output_type": "stream",
     "text": [
      "count     9.000000\n",
      "mean     14.222222\n",
      "std       8.303279\n",
      "min       2.000000\n",
      "25%      10.000000\n",
      "50%      13.000000\n",
      "75%      18.000000\n",
      "max      29.000000\n",
      "dtype: float64\n"
     ]
    }
   ],
   "source": [
    "print(S.describe())"
   ]
  },
  {
   "cell_type": "code",
   "execution_count": 10,
   "id": "6f7aa7d8",
   "metadata": {
    "scrolled": true
   },
   "outputs": [
    {
     "name": "stdout",
     "output_type": "stream",
     "text": [
      "S5    29\n",
      "S6    23\n",
      "S7     2\n",
      "S8    18\n",
      "S9     6\n",
      "dtype: int64\n"
     ]
    }
   ],
   "source": [
    "print(S.tail())"
   ]
  },
  {
   "cell_type": "code",
   "execution_count": 11,
   "id": "8311a471",
   "metadata": {},
   "outputs": [
    {
     "name": "stdout",
     "output_type": "stream",
     "text": [
      "S8    18\n",
      "S9     6\n",
      "dtype: int64\n"
     ]
    }
   ],
   "source": [
    "print(S.tail(2))"
   ]
  },
  {
   "cell_type": "markdown",
   "id": "94c6d497",
   "metadata": {},
   "source": [
    "Data frames and operations"
   ]
  },
  {
   "cell_type": "code",
   "execution_count": 12,
   "id": "e8deebd5",
   "metadata": {},
   "outputs": [
    {
     "data": {
      "text/html": [
       "<div>\n",
       "<style scoped>\n",
       "    .dataframe tbody tr th:only-of-type {\n",
       "        vertical-align: middle;\n",
       "    }\n",
       "\n",
       "    .dataframe tbody tr th {\n",
       "        vertical-align: top;\n",
       "    }\n",
       "\n",
       "    .dataframe thead th {\n",
       "        text-align: right;\n",
       "    }\n",
       "</style>\n",
       "<table border=\"1\" class=\"dataframe\">\n",
       "  <thead>\n",
       "    <tr style=\"text-align: right;\">\n",
       "      <th></th>\n",
       "      <th>age</th>\n",
       "      <th>Num</th>\n",
       "    </tr>\n",
       "  </thead>\n",
       "  <tbody>\n",
       "    <tr>\n",
       "      <th>S1</th>\n",
       "      <td>10</td>\n",
       "      <td>1</td>\n",
       "    </tr>\n",
       "    <tr>\n",
       "      <th>S2</th>\n",
       "      <td>12</td>\n",
       "      <td>2</td>\n",
       "    </tr>\n",
       "    <tr>\n",
       "      <th>S3</th>\n",
       "      <td>13</td>\n",
       "      <td>3</td>\n",
       "    </tr>\n",
       "    <tr>\n",
       "      <th>S4</th>\n",
       "      <td>15</td>\n",
       "      <td>4</td>\n",
       "    </tr>\n",
       "    <tr>\n",
       "      <th>S5</th>\n",
       "      <td>29</td>\n",
       "      <td>5</td>\n",
       "    </tr>\n",
       "    <tr>\n",
       "      <th>S6</th>\n",
       "      <td>23</td>\n",
       "      <td>6</td>\n",
       "    </tr>\n",
       "    <tr>\n",
       "      <th>S7</th>\n",
       "      <td>2</td>\n",
       "      <td>7</td>\n",
       "    </tr>\n",
       "    <tr>\n",
       "      <th>S8</th>\n",
       "      <td>18</td>\n",
       "      <td>8</td>\n",
       "    </tr>\n",
       "    <tr>\n",
       "      <th>S9</th>\n",
       "      <td>6</td>\n",
       "      <td>9</td>\n",
       "    </tr>\n",
       "  </tbody>\n",
       "</table>\n",
       "</div>"
      ],
      "text/plain": [
       "    age Num\n",
       "S1   10   1\n",
       "S2   12   2\n",
       "S3   13   3\n",
       "S4   15   4\n",
       "S5   29   5\n",
       "S6   23   6\n",
       "S7    2   7\n",
       "S8   18   8\n",
       "S9    6   9"
      ]
     },
     "execution_count": 12,
     "metadata": {},
     "output_type": "execute_result"
    }
   ],
   "source": [
    "Sl =list('123456789')\n",
    "S1 = pd.Series(Sl,index =name)\n",
    "df = pd.DataFrame({'age':S,'Num':S1})\n",
    "df"
   ]
  },
  {
   "cell_type": "code",
   "execution_count": 13,
   "id": "e3ddc146",
   "metadata": {},
   "outputs": [
    {
     "name": "stdout",
     "output_type": "stream",
     "text": [
      "   Employee ID     Name  Age  Gender   Location\n",
      "0         1120    Rahul   35    Male      Delhi\n",
      "1         1230   Mayuri   41  Female    Chennai\n",
      "2         1250  Karthik   27    Male  Bangalore\n",
      "3         1450   Pratik   32    Male      Delhi\n",
      "4         1500      Das   40    Male  Bangalore\n",
      "5         1600     Neha   28  Female    Chennai\n"
     ]
    }
   ],
   "source": [
    "df1=pd.read_excel('Employee.xlsx')\n",
    "print(df1)"
   ]
  },
  {
   "cell_type": "code",
   "execution_count": 14,
   "id": "065a840d",
   "metadata": {},
   "outputs": [
    {
     "name": "stdout",
     "output_type": "stream",
     "text": [
      "0      Rahul\n",
      "1     Mayuri\n",
      "2    Karthik\n",
      "3     Pratik\n",
      "4        Das\n",
      "5       Neha\n",
      "Name: Name, dtype: object\n"
     ]
    }
   ],
   "source": [
    "print(df1['Name'])"
   ]
  },
  {
   "cell_type": "code",
   "execution_count": 15,
   "id": "5b236fbc",
   "metadata": {},
   "outputs": [
    {
     "name": "stdout",
     "output_type": "stream",
     "text": [
      "   Employee ID     Name  Age  Gender   Location\n",
      "0         1120    Rahul   35    Male      Delhi\n",
      "1         1230   Mayuri   41  Female    Chennai\n",
      "2         1250  Karthik   27    Male  Bangalore\n",
      "3         1450   Pratik   32    Male      Delhi\n",
      "4         1500      Das   40    Male  Bangalore\n"
     ]
    }
   ],
   "source": [
    "print(df1.head())"
   ]
  },
  {
   "cell_type": "code",
   "execution_count": 16,
   "id": "2c90b66f",
   "metadata": {},
   "outputs": [
    {
     "name": "stdout",
     "output_type": "stream",
     "text": [
      "<class 'pandas.core.frame.DataFrame'>\n",
      "RangeIndex: 6 entries, 0 to 5\n",
      "Data columns (total 5 columns):\n",
      " #   Column       Non-Null Count  Dtype \n",
      "---  ------       --------------  ----- \n",
      " 0   Employee ID  6 non-null      int64 \n",
      " 1   Name         6 non-null      object\n",
      " 2   Age          6 non-null      int64 \n",
      " 3   Gender       6 non-null      object\n",
      " 4   Location     6 non-null      object\n",
      "dtypes: int64(2), object(3)\n",
      "memory usage: 368.0+ bytes\n",
      "None\n"
     ]
    }
   ],
   "source": [
    "print(df1.info())"
   ]
  },
  {
   "cell_type": "code",
   "execution_count": 19,
   "id": "884c2858",
   "metadata": {},
   "outputs": [
    {
     "name": "stdout",
     "output_type": "stream",
     "text": [
      "   Employee ID  Name  Age  Gender   Location\n",
      "4         1500   Das   40    Male  Bangalore\n",
      "5         1600  Neha   28  Female    Chennai\n"
     ]
    }
   ],
   "source": [
    "print(df1.tail(2))"
   ]
  },
  {
   "cell_type": "code",
   "execution_count": 18,
   "id": "d812566d",
   "metadata": {},
   "outputs": [
    {
     "name": "stdout",
     "output_type": "stream",
     "text": [
      "Employee ID         1500\n",
      "Name                 Das\n",
      "Age                   40\n",
      "Gender              Male\n",
      "Location       Bangalore\n",
      "Name: 4, dtype: object\n"
     ]
    }
   ],
   "source": [
    "print(df1.loc[4])"
   ]
  },
  {
   "cell_type": "code",
   "execution_count": 20,
   "id": "37e82050",
   "metadata": {},
   "outputs": [
    {
     "name": "stdout",
     "output_type": "stream",
     "text": [
      "   Employee ID    Name  Age  Gender   Location\n",
      "0         1120   Rahul   35    Male      Delhi\n",
      "1         1230  Mayuri   41  Female    Chennai\n",
      "3         1450  Pratik   32    Male      Delhi\n",
      "4         1500     Das   40    Male  Bangalore\n"
     ]
    }
   ],
   "source": [
    "print(df1[df1['Age']>30])"
   ]
  },
  {
   "cell_type": "code",
   "execution_count": 23,
   "id": "0423431e",
   "metadata": {},
   "outputs": [
    {
     "name": "stdout",
     "output_type": "stream",
     "text": [
      "   Employee ID     Name  Age  Gender   Location\n",
      "2         1250  Karthik   27    Male  Bangalore\n",
      "5         1600     Neha   28  Female    Chennai\n",
      "3         1450   Pratik   32    Male      Delhi\n",
      "0         1120    Rahul   35    Male      Delhi\n",
      "4         1500      Das   40    Male  Bangalore\n",
      "1         1230   Mayuri   41  Female    Chennai\n"
     ]
    }
   ],
   "source": [
    "print(df1.sort_values('Age'))"
   ]
  },
  {
   "cell_type": "code",
   "execution_count": 24,
   "id": "b8861b00",
   "metadata": {},
   "outputs": [
    {
     "name": "stdout",
     "output_type": "stream",
     "text": [
      "Employee ID    1358.333333\n",
      "Age              33.833333\n",
      "dtype: float64\n"
     ]
    }
   ],
   "source": [
    "print(df1.sort_values('Age').mean())"
   ]
  },
  {
   "cell_type": "code",
   "execution_count": 29,
   "id": "e858acf7",
   "metadata": {},
   "outputs": [
    {
     "name": "stdout",
     "output_type": "stream",
     "text": [
      "        Employee ID  Age\n",
      "Gender                  \n",
      "Female         1600   41\n",
      "Male           1500   40\n"
     ]
    }
   ],
   "source": [
    "print(df1.groupby('Gender').max('Age'))"
   ]
  },
  {
   "cell_type": "code",
   "execution_count": 30,
   "id": "65642c3c",
   "metadata": {},
   "outputs": [
    {
     "name": "stdout",
     "output_type": "stream",
     "text": [
      "        Employee ID   Age\n",
      "Gender                   \n",
      "Female       1415.0  34.5\n",
      "Male         1330.0  33.5\n"
     ]
    }
   ],
   "source": [
    "print(df1.groupby('Gender').mean('Age'))"
   ]
  },
  {
   "cell_type": "code",
   "execution_count": 31,
   "id": "2b4419df",
   "metadata": {},
   "outputs": [
    {
     "name": "stdout",
     "output_type": "stream",
     "text": [
      "   Employee ID     Name  Age  Gender\n",
      "0         1120    Rahul   35    Male\n",
      "1         1230   Mayuri   41  Female\n",
      "2         1250  Karthik   27    Male\n",
      "3         1450   Pratik   32    Male\n",
      "4         1500      Das   40    Male\n",
      "5         1600     Neha   28  Female\n"
     ]
    }
   ],
   "source": [
    "del df1['Location']\n",
    "print(df1)"
   ]
  },
  {
   "cell_type": "code",
   "execution_count": null,
   "id": "4a4668a2",
   "metadata": {},
   "outputs": [],
   "source": []
  }
 ],
 "metadata": {
  "kernelspec": {
   "display_name": "Python 3",
   "language": "python",
   "name": "python3"
  },
  "language_info": {
   "codemirror_mode": {
    "name": "ipython",
    "version": 3
   },
   "file_extension": ".py",
   "mimetype": "text/x-python",
   "name": "python",
   "nbconvert_exporter": "python",
   "pygments_lexer": "ipython3",
   "version": "3.8.8"
  }
 },
 "nbformat": 4,
 "nbformat_minor": 5
}
